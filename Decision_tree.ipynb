{
 "cells": [
  {
   "cell_type": "markdown",
   "id": "6589562a-cd30-448c-a2f6-a422933e7323",
   "metadata": {},
   "source": [
    "## Decision Tree classification"
   ]
  },
  {
   "cell_type": "markdown",
   "id": "a5a23e66-bbad-45fe-b99a-a86a1e41a953",
   "metadata": {},
   "source": [
    "We shall use the **adult income** dataset to create a decision tree to predict whether the person earns less than 50,000 or more than 50,000.\n",
    "\n",
    "We start by loading the packages that we will use."
   ]
  },
  {
   "cell_type": "code",
   "execution_count": 1,
   "id": "50650c1c-ecee-4f0f-b8cb-bba1e79d5399",
   "metadata": {},
   "outputs": [],
   "source": [
    "import pandas as pd\n",
    "import seaborn as sns\n",
    "import matplotlib.pyplot as plt\n",
    "\n",
    "#Ignore specific warnings\n",
    "import warnings\n",
    "warnings.filterwarnings('ignore')\n",
    "\n",
    "sns.set_style('whitegrid')\n",
    "%matplotlib inline"
   ]
  },
  {
   "cell_type": "markdown",
   "id": "0a28493e-5ffa-4388-88e7-099dc0fbdbc5",
   "metadata": {},
   "source": [
    "Load the dataset to be used."
   ]
  },
  {
   "cell_type": "code",
   "execution_count": 2,
   "id": "037eb4bd-e5cc-4419-94e5-98934161f788",
   "metadata": {},
   "outputs": [
    {
     "data": {
      "text/html": [
       "<div>\n",
       "<style scoped>\n",
       "    .dataframe tbody tr th:only-of-type {\n",
       "        vertical-align: middle;\n",
       "    }\n",
       "\n",
       "    .dataframe tbody tr th {\n",
       "        vertical-align: top;\n",
       "    }\n",
       "\n",
       "    .dataframe thead th {\n",
       "        text-align: right;\n",
       "    }\n",
       "</style>\n",
       "<table border=\"1\" class=\"dataframe\">\n",
       "  <thead>\n",
       "    <tr style=\"text-align: right;\">\n",
       "      <th></th>\n",
       "      <th>0</th>\n",
       "      <th>1</th>\n",
       "      <th>2</th>\n",
       "      <th>3</th>\n",
       "      <th>4</th>\n",
       "      <th>5</th>\n",
       "      <th>6</th>\n",
       "      <th>7</th>\n",
       "      <th>8</th>\n",
       "      <th>9</th>\n",
       "      <th>10</th>\n",
       "      <th>11</th>\n",
       "      <th>12</th>\n",
       "      <th>13</th>\n",
       "      <th>14</th>\n",
       "    </tr>\n",
       "  </thead>\n",
       "  <tbody>\n",
       "    <tr>\n",
       "      <th>0</th>\n",
       "      <td>39</td>\n",
       "      <td>State-gov</td>\n",
       "      <td>77516</td>\n",
       "      <td>Bachelors</td>\n",
       "      <td>13</td>\n",
       "      <td>Never-married</td>\n",
       "      <td>Adm-clerical</td>\n",
       "      <td>Not-in-family</td>\n",
       "      <td>White</td>\n",
       "      <td>Male</td>\n",
       "      <td>2174</td>\n",
       "      <td>0</td>\n",
       "      <td>40</td>\n",
       "      <td>United-States</td>\n",
       "      <td>&lt;=50K</td>\n",
       "    </tr>\n",
       "    <tr>\n",
       "      <th>1</th>\n",
       "      <td>50</td>\n",
       "      <td>Self-emp-not-inc</td>\n",
       "      <td>83311</td>\n",
       "      <td>Bachelors</td>\n",
       "      <td>13</td>\n",
       "      <td>Married-civ-spouse</td>\n",
       "      <td>Exec-managerial</td>\n",
       "      <td>Husband</td>\n",
       "      <td>White</td>\n",
       "      <td>Male</td>\n",
       "      <td>0</td>\n",
       "      <td>0</td>\n",
       "      <td>13</td>\n",
       "      <td>United-States</td>\n",
       "      <td>&lt;=50K</td>\n",
       "    </tr>\n",
       "    <tr>\n",
       "      <th>2</th>\n",
       "      <td>38</td>\n",
       "      <td>Private</td>\n",
       "      <td>215646</td>\n",
       "      <td>HS-grad</td>\n",
       "      <td>9</td>\n",
       "      <td>Divorced</td>\n",
       "      <td>Handlers-cleaners</td>\n",
       "      <td>Not-in-family</td>\n",
       "      <td>White</td>\n",
       "      <td>Male</td>\n",
       "      <td>0</td>\n",
       "      <td>0</td>\n",
       "      <td>40</td>\n",
       "      <td>United-States</td>\n",
       "      <td>&lt;=50K</td>\n",
       "    </tr>\n",
       "    <tr>\n",
       "      <th>3</th>\n",
       "      <td>53</td>\n",
       "      <td>Private</td>\n",
       "      <td>234721</td>\n",
       "      <td>11th</td>\n",
       "      <td>7</td>\n",
       "      <td>Married-civ-spouse</td>\n",
       "      <td>Handlers-cleaners</td>\n",
       "      <td>Husband</td>\n",
       "      <td>Black</td>\n",
       "      <td>Male</td>\n",
       "      <td>0</td>\n",
       "      <td>0</td>\n",
       "      <td>40</td>\n",
       "      <td>United-States</td>\n",
       "      <td>&lt;=50K</td>\n",
       "    </tr>\n",
       "    <tr>\n",
       "      <th>4</th>\n",
       "      <td>28</td>\n",
       "      <td>Private</td>\n",
       "      <td>338409</td>\n",
       "      <td>Bachelors</td>\n",
       "      <td>13</td>\n",
       "      <td>Married-civ-spouse</td>\n",
       "      <td>Prof-specialty</td>\n",
       "      <td>Wife</td>\n",
       "      <td>Black</td>\n",
       "      <td>Female</td>\n",
       "      <td>0</td>\n",
       "      <td>0</td>\n",
       "      <td>40</td>\n",
       "      <td>Cuba</td>\n",
       "      <td>&lt;=50K</td>\n",
       "    </tr>\n",
       "  </tbody>\n",
       "</table>\n",
       "</div>"
      ],
      "text/plain": [
       "   0                  1       2           3   4                    5   \\\n",
       "0  39          State-gov   77516   Bachelors  13        Never-married   \n",
       "1  50   Self-emp-not-inc   83311   Bachelors  13   Married-civ-spouse   \n",
       "2  38            Private  215646     HS-grad   9             Divorced   \n",
       "3  53            Private  234721        11th   7   Married-civ-spouse   \n",
       "4  28            Private  338409   Bachelors  13   Married-civ-spouse   \n",
       "\n",
       "                   6               7       8        9     10  11  12  \\\n",
       "0        Adm-clerical   Not-in-family   White     Male  2174   0  40   \n",
       "1     Exec-managerial         Husband   White     Male     0   0  13   \n",
       "2   Handlers-cleaners   Not-in-family   White     Male     0   0  40   \n",
       "3   Handlers-cleaners         Husband   Black     Male     0   0  40   \n",
       "4      Prof-specialty            Wife   Black   Female     0   0  40   \n",
       "\n",
       "               13      14  \n",
       "0   United-States   <=50K  \n",
       "1   United-States   <=50K  \n",
       "2   United-States   <=50K  \n",
       "3   United-States   <=50K  \n",
       "4            Cuba   <=50K  "
      ]
     },
     "execution_count": 2,
     "metadata": {},
     "output_type": "execute_result"
    }
   ],
   "source": [
    "adult_data = pd.read_csv(\"adult.csv\", header = None)\n",
    "adult_data.head()"
   ]
  },
  {
   "cell_type": "markdown",
   "id": "0c371967-6239-4c18-88f4-a29de78b2788",
   "metadata": {},
   "source": [
    "Create a header column to label our data."
   ]
  },
  {
   "cell_type": "code",
   "execution_count": 3,
   "id": "f95d1678-32a1-47f6-a6b4-4a4318d2de74",
   "metadata": {},
   "outputs": [
    {
     "data": {
      "text/plain": [
       "Index(['Age', 'Workclass', 'FNLWGT', 'Education', 'EducationLevel',\n",
       "       'MaritalStatus', 'Occupation', 'Relationship', 'Race', 'Sex',\n",
       "       'CapitalGain', 'CapitalLoss', 'HoursPerWeek', 'NativeCountry',\n",
       "       'Salary'],\n",
       "      dtype='object')"
      ]
     },
     "execution_count": 3,
     "metadata": {},
     "output_type": "execute_result"
    }
   ],
   "source": [
    "header = [\"Age\", \"Workclass\", \"FNLWGT\", \"Education\", \"EducationLevel\", \"MaritalStatus\", \"Occupation\", \"Relationship\", \"Race\", \"Sex\",\n",
    "          \"CapitalGain\", \"CapitalLoss\", \"HoursPerWeek\", \"NativeCountry\", \"Salary\"]\n",
    "adult_data.columns = header\n",
    "adult_data.columns"
   ]
  },
  {
   "cell_type": "markdown",
   "id": "094304c3-986d-4c32-8127-7b13ef1eac4f",
   "metadata": {},
   "source": [
    "A slice of the data to see if our change reflected."
   ]
  },
  {
   "cell_type": "code",
   "execution_count": 4,
   "id": "22a930a2-d1de-4eed-b8c3-4e550dbcb724",
   "metadata": {},
   "outputs": [
    {
     "data": {
      "text/html": [
       "<div>\n",
       "<style scoped>\n",
       "    .dataframe tbody tr th:only-of-type {\n",
       "        vertical-align: middle;\n",
       "    }\n",
       "\n",
       "    .dataframe tbody tr th {\n",
       "        vertical-align: top;\n",
       "    }\n",
       "\n",
       "    .dataframe thead th {\n",
       "        text-align: right;\n",
       "    }\n",
       "</style>\n",
       "<table border=\"1\" class=\"dataframe\">\n",
       "  <thead>\n",
       "    <tr style=\"text-align: right;\">\n",
       "      <th></th>\n",
       "      <th>Age</th>\n",
       "      <th>Workclass</th>\n",
       "      <th>FNLWGT</th>\n",
       "      <th>Education</th>\n",
       "      <th>EducationLevel</th>\n",
       "      <th>MaritalStatus</th>\n",
       "      <th>Occupation</th>\n",
       "      <th>Relationship</th>\n",
       "      <th>Race</th>\n",
       "      <th>Sex</th>\n",
       "      <th>CapitalGain</th>\n",
       "      <th>CapitalLoss</th>\n",
       "      <th>HoursPerWeek</th>\n",
       "      <th>NativeCountry</th>\n",
       "      <th>Salary</th>\n",
       "    </tr>\n",
       "  </thead>\n",
       "  <tbody>\n",
       "    <tr>\n",
       "      <th>6299</th>\n",
       "      <td>43</td>\n",
       "      <td>Private</td>\n",
       "      <td>102180</td>\n",
       "      <td>Masters</td>\n",
       "      <td>14</td>\n",
       "      <td>Married-civ-spouse</td>\n",
       "      <td>Prof-specialty</td>\n",
       "      <td>Husband</td>\n",
       "      <td>White</td>\n",
       "      <td>Male</td>\n",
       "      <td>0</td>\n",
       "      <td>0</td>\n",
       "      <td>40</td>\n",
       "      <td>United-States</td>\n",
       "      <td>&gt;50K</td>\n",
       "    </tr>\n",
       "    <tr>\n",
       "      <th>11625</th>\n",
       "      <td>35</td>\n",
       "      <td>Local-gov</td>\n",
       "      <td>102938</td>\n",
       "      <td>HS-grad</td>\n",
       "      <td>9</td>\n",
       "      <td>Married-civ-spouse</td>\n",
       "      <td>Other-service</td>\n",
       "      <td>Husband</td>\n",
       "      <td>White</td>\n",
       "      <td>Male</td>\n",
       "      <td>0</td>\n",
       "      <td>0</td>\n",
       "      <td>40</td>\n",
       "      <td>United-States</td>\n",
       "      <td>&lt;=50K</td>\n",
       "    </tr>\n",
       "    <tr>\n",
       "      <th>14586</th>\n",
       "      <td>46</td>\n",
       "      <td>Local-gov</td>\n",
       "      <td>316205</td>\n",
       "      <td>Bachelors</td>\n",
       "      <td>13</td>\n",
       "      <td>Married-civ-spouse</td>\n",
       "      <td>Exec-managerial</td>\n",
       "      <td>Husband</td>\n",
       "      <td>Black</td>\n",
       "      <td>Male</td>\n",
       "      <td>0</td>\n",
       "      <td>0</td>\n",
       "      <td>40</td>\n",
       "      <td>United-States</td>\n",
       "      <td>&gt;50K</td>\n",
       "    </tr>\n",
       "    <tr>\n",
       "      <th>18755</th>\n",
       "      <td>54</td>\n",
       "      <td>Private</td>\n",
       "      <td>143804</td>\n",
       "      <td>10th</td>\n",
       "      <td>6</td>\n",
       "      <td>Married-civ-spouse</td>\n",
       "      <td>Machine-op-inspct</td>\n",
       "      <td>Husband</td>\n",
       "      <td>White</td>\n",
       "      <td>Male</td>\n",
       "      <td>0</td>\n",
       "      <td>0</td>\n",
       "      <td>40</td>\n",
       "      <td>United-States</td>\n",
       "      <td>&lt;=50K</td>\n",
       "    </tr>\n",
       "    <tr>\n",
       "      <th>9556</th>\n",
       "      <td>44</td>\n",
       "      <td>Private</td>\n",
       "      <td>223308</td>\n",
       "      <td>Masters</td>\n",
       "      <td>14</td>\n",
       "      <td>Separated</td>\n",
       "      <td>Sales</td>\n",
       "      <td>Unmarried</td>\n",
       "      <td>White</td>\n",
       "      <td>Female</td>\n",
       "      <td>0</td>\n",
       "      <td>0</td>\n",
       "      <td>48</td>\n",
       "      <td>United-States</td>\n",
       "      <td>&lt;=50K</td>\n",
       "    </tr>\n",
       "  </tbody>\n",
       "</table>\n",
       "</div>"
      ],
      "text/plain": [
       "       Age   Workclass  FNLWGT   Education  EducationLevel  \\\n",
       "6299    43     Private  102180     Masters              14   \n",
       "11625   35   Local-gov  102938     HS-grad               9   \n",
       "14586   46   Local-gov  316205   Bachelors              13   \n",
       "18755   54     Private  143804        10th               6   \n",
       "9556    44     Private  223308     Masters              14   \n",
       "\n",
       "             MaritalStatus          Occupation Relationship    Race      Sex  \\\n",
       "6299    Married-civ-spouse      Prof-specialty      Husband   White     Male   \n",
       "11625   Married-civ-spouse       Other-service      Husband   White     Male   \n",
       "14586   Married-civ-spouse     Exec-managerial      Husband   Black     Male   \n",
       "18755   Married-civ-spouse   Machine-op-inspct      Husband   White     Male   \n",
       "9556             Separated               Sales    Unmarried   White   Female   \n",
       "\n",
       "       CapitalGain  CapitalLoss  HoursPerWeek   NativeCountry  Salary  \n",
       "6299             0            0            40   United-States    >50K  \n",
       "11625            0            0            40   United-States   <=50K  \n",
       "14586            0            0            40   United-States    >50K  \n",
       "18755            0            0            40   United-States   <=50K  \n",
       "9556             0            0            48   United-States   <=50K  "
      ]
     },
     "execution_count": 4,
     "metadata": {},
     "output_type": "execute_result"
    }
   ],
   "source": [
    "adult_data.sample(n = 5, random_state = 45)"
   ]
  },
  {
   "cell_type": "markdown",
   "id": "ce742633-edb9-41ea-9102-6e3163016673",
   "metadata": {},
   "source": [
    "Get more information on the data."
   ]
  },
  {
   "cell_type": "code",
   "execution_count": 5,
   "id": "2fb2a1ea-84f3-40c5-bf27-7c909bb32184",
   "metadata": {},
   "outputs": [
    {
     "name": "stdout",
     "output_type": "stream",
     "text": [
      "<class 'pandas.core.frame.DataFrame'>\n",
      "RangeIndex: 32561 entries, 0 to 32560\n",
      "Data columns (total 15 columns):\n",
      " #   Column          Non-Null Count  Dtype \n",
      "---  ------          --------------  ----- \n",
      " 0   Age             32561 non-null  int64 \n",
      " 1   Workclass       32561 non-null  object\n",
      " 2   FNLWGT          32561 non-null  int64 \n",
      " 3   Education       32561 non-null  object\n",
      " 4   EducationLevel  32561 non-null  int64 \n",
      " 5   MaritalStatus   32561 non-null  object\n",
      " 6   Occupation      32561 non-null  object\n",
      " 7   Relationship    32561 non-null  object\n",
      " 8   Race            32561 non-null  object\n",
      " 9   Sex             32561 non-null  object\n",
      " 10  CapitalGain     32561 non-null  int64 \n",
      " 11  CapitalLoss     32561 non-null  int64 \n",
      " 12  HoursPerWeek    32561 non-null  int64 \n",
      " 13  NativeCountry   32561 non-null  object\n",
      " 14  Salary          32561 non-null  object\n",
      "dtypes: int64(6), object(9)\n",
      "memory usage: 3.7+ MB\n"
     ]
    }
   ],
   "source": [
    "adult_data.info()"
   ]
  },
  {
   "cell_type": "markdown",
   "id": "14f635d5-62fd-49e4-8b1e-1bd09ad4b8d3",
   "metadata": {},
   "source": [
    "To make our work easier next time we use the dataset, we export the data as a pickle data file that maintains the files data type. "
   ]
  },
  {
   "cell_type": "code",
   "execution_count": 6,
   "id": "646d42eb-01bb-405a-ac52-5481a4309886",
   "metadata": {},
   "outputs": [
    {
     "data": {
      "text/plain": [
       "\"\\nadult_data.to_pickle('adult_data.p')\\n\""
      ]
     },
     "execution_count": 6,
     "metadata": {},
     "output_type": "execute_result"
    }
   ],
   "source": [
    "'''\n",
    "adult_data.to_pickle('adult_data.p')\n",
    "'''"
   ]
  },
  {
   "cell_type": "markdown",
   "id": "b80f65f3-4dfb-4789-8ca4-820a08473125",
   "metadata": {},
   "source": [
    "### Creating the model"
   ]
  },
  {
   "cell_type": "markdown",
   "id": "ddfdb4a1-dc34-473b-a5fa-603ae346257a",
   "metadata": {},
   "source": [
    "We shall prepare the data before creating the model."
   ]
  },
  {
   "cell_type": "code",
   "execution_count": 7,
   "id": "73d99159-6d58-4c09-9c69-8d4e280a7311",
   "metadata": {},
   "outputs": [
    {
     "data": {
      "text/html": [
       "<div>\n",
       "<style scoped>\n",
       "    .dataframe tbody tr th:only-of-type {\n",
       "        vertical-align: middle;\n",
       "    }\n",
       "\n",
       "    .dataframe tbody tr th {\n",
       "        vertical-align: top;\n",
       "    }\n",
       "\n",
       "    .dataframe thead th {\n",
       "        text-align: right;\n",
       "    }\n",
       "</style>\n",
       "<table border=\"1\" class=\"dataframe\">\n",
       "  <thead>\n",
       "    <tr style=\"text-align: right;\">\n",
       "      <th></th>\n",
       "      <th>Age</th>\n",
       "      <th>Workclass</th>\n",
       "      <th>FNLWGT</th>\n",
       "      <th>Education</th>\n",
       "      <th>EducationLevel</th>\n",
       "      <th>MaritalStatus</th>\n",
       "      <th>Occupation</th>\n",
       "      <th>Relationship</th>\n",
       "      <th>Race</th>\n",
       "      <th>Sex</th>\n",
       "      <th>CapitalGain</th>\n",
       "      <th>CapitalLoss</th>\n",
       "      <th>HoursPerWeek</th>\n",
       "      <th>NativeCountry</th>\n",
       "      <th>Salary</th>\n",
       "      <th>label</th>\n",
       "    </tr>\n",
       "  </thead>\n",
       "  <tbody>\n",
       "    <tr>\n",
       "      <th>6299</th>\n",
       "      <td>43</td>\n",
       "      <td>Private</td>\n",
       "      <td>102180</td>\n",
       "      <td>Masters</td>\n",
       "      <td>14</td>\n",
       "      <td>Married-civ-spouse</td>\n",
       "      <td>Prof-specialty</td>\n",
       "      <td>Husband</td>\n",
       "      <td>White</td>\n",
       "      <td>Male</td>\n",
       "      <td>0</td>\n",
       "      <td>0</td>\n",
       "      <td>40</td>\n",
       "      <td>United-States</td>\n",
       "      <td>&gt;50K</td>\n",
       "      <td>1</td>\n",
       "    </tr>\n",
       "    <tr>\n",
       "      <th>11625</th>\n",
       "      <td>35</td>\n",
       "      <td>Local-gov</td>\n",
       "      <td>102938</td>\n",
       "      <td>HS-grad</td>\n",
       "      <td>9</td>\n",
       "      <td>Married-civ-spouse</td>\n",
       "      <td>Other-service</td>\n",
       "      <td>Husband</td>\n",
       "      <td>White</td>\n",
       "      <td>Male</td>\n",
       "      <td>0</td>\n",
       "      <td>0</td>\n",
       "      <td>40</td>\n",
       "      <td>United-States</td>\n",
       "      <td>&lt;=50K</td>\n",
       "      <td>0</td>\n",
       "    </tr>\n",
       "    <tr>\n",
       "      <th>14586</th>\n",
       "      <td>46</td>\n",
       "      <td>Local-gov</td>\n",
       "      <td>316205</td>\n",
       "      <td>Bachelors</td>\n",
       "      <td>13</td>\n",
       "      <td>Married-civ-spouse</td>\n",
       "      <td>Exec-managerial</td>\n",
       "      <td>Husband</td>\n",
       "      <td>Black</td>\n",
       "      <td>Male</td>\n",
       "      <td>0</td>\n",
       "      <td>0</td>\n",
       "      <td>40</td>\n",
       "      <td>United-States</td>\n",
       "      <td>&gt;50K</td>\n",
       "      <td>1</td>\n",
       "    </tr>\n",
       "    <tr>\n",
       "      <th>18755</th>\n",
       "      <td>54</td>\n",
       "      <td>Private</td>\n",
       "      <td>143804</td>\n",
       "      <td>10th</td>\n",
       "      <td>6</td>\n",
       "      <td>Married-civ-spouse</td>\n",
       "      <td>Machine-op-inspct</td>\n",
       "      <td>Husband</td>\n",
       "      <td>White</td>\n",
       "      <td>Male</td>\n",
       "      <td>0</td>\n",
       "      <td>0</td>\n",
       "      <td>40</td>\n",
       "      <td>United-States</td>\n",
       "      <td>&lt;=50K</td>\n",
       "      <td>0</td>\n",
       "    </tr>\n",
       "    <tr>\n",
       "      <th>9556</th>\n",
       "      <td>44</td>\n",
       "      <td>Private</td>\n",
       "      <td>223308</td>\n",
       "      <td>Masters</td>\n",
       "      <td>14</td>\n",
       "      <td>Separated</td>\n",
       "      <td>Sales</td>\n",
       "      <td>Unmarried</td>\n",
       "      <td>White</td>\n",
       "      <td>Female</td>\n",
       "      <td>0</td>\n",
       "      <td>0</td>\n",
       "      <td>48</td>\n",
       "      <td>United-States</td>\n",
       "      <td>&lt;=50K</td>\n",
       "      <td>0</td>\n",
       "    </tr>\n",
       "  </tbody>\n",
       "</table>\n",
       "</div>"
      ],
      "text/plain": [
       "       Age   Workclass  FNLWGT   Education  EducationLevel  \\\n",
       "6299    43     Private  102180     Masters              14   \n",
       "11625   35   Local-gov  102938     HS-grad               9   \n",
       "14586   46   Local-gov  316205   Bachelors              13   \n",
       "18755   54     Private  143804        10th               6   \n",
       "9556    44     Private  223308     Masters              14   \n",
       "\n",
       "             MaritalStatus          Occupation Relationship    Race      Sex  \\\n",
       "6299    Married-civ-spouse      Prof-specialty      Husband   White     Male   \n",
       "11625   Married-civ-spouse       Other-service      Husband   White     Male   \n",
       "14586   Married-civ-spouse     Exec-managerial      Husband   Black     Male   \n",
       "18755   Married-civ-spouse   Machine-op-inspct      Husband   White     Male   \n",
       "9556             Separated               Sales    Unmarried   White   Female   \n",
       "\n",
       "       CapitalGain  CapitalLoss  HoursPerWeek   NativeCountry  Salary  label  \n",
       "6299             0            0            40   United-States    >50K      1  \n",
       "11625            0            0            40   United-States   <=50K      0  \n",
       "14586            0            0            40   United-States    >50K      1  \n",
       "18755            0            0            40   United-States   <=50K      0  \n",
       "9556             0            0            48   United-States   <=50K      0  "
      ]
     },
     "execution_count": 7,
     "metadata": {},
     "output_type": "execute_result"
    }
   ],
   "source": [
    "adult_data[\"label\"] = adult_data.Salary.map(lambda x : 1 if \">50K\" in x else 0) \n",
    "adult_data.sample(n = 5, random_state = 45)"
   ]
  },
  {
   "cell_type": "markdown",
   "id": "4240137a-5c4c-491c-82dd-ccf9e52b13aa",
   "metadata": {},
   "source": [
    "The decision tree does not need `labelEncoding()` but will still use it due to good practice."
   ]
  },
  {
   "cell_type": "code",
   "execution_count": 8,
   "id": "eb951e19-8d4c-482d-808c-cffd3b7d0750",
   "metadata": {},
   "outputs": [],
   "source": [
    "from sklearn.preprocessing import LabelEncoder\n",
    "\n",
    "adult_data['Sex_code'] = LabelEncoder().fit_transform(adult_data.Sex)\n",
    "\n",
    "\n",
    "data = adult_data[['Age', 'HoursPerWeek', 'CapitalGain', 'Sex_code']]\n",
    "label = adult_data['label']\n"
   ]
  },
  {
   "cell_type": "markdown",
   "id": "1f128e6b-b909-4a54-9ff0-62449b1784b1",
   "metadata": {},
   "source": [
    "View the data and label."
   ]
  },
  {
   "cell_type": "code",
   "execution_count": 9,
   "id": "261e5d62-dfcb-4b9e-b886-b57aad575808",
   "metadata": {},
   "outputs": [
    {
     "data": {
      "text/html": [
       "<div>\n",
       "<style scoped>\n",
       "    .dataframe tbody tr th:only-of-type {\n",
       "        vertical-align: middle;\n",
       "    }\n",
       "\n",
       "    .dataframe tbody tr th {\n",
       "        vertical-align: top;\n",
       "    }\n",
       "\n",
       "    .dataframe thead th {\n",
       "        text-align: right;\n",
       "    }\n",
       "</style>\n",
       "<table border=\"1\" class=\"dataframe\">\n",
       "  <thead>\n",
       "    <tr style=\"text-align: right;\">\n",
       "      <th></th>\n",
       "      <th>Age</th>\n",
       "      <th>HoursPerWeek</th>\n",
       "      <th>CapitalGain</th>\n",
       "      <th>Sex_code</th>\n",
       "    </tr>\n",
       "  </thead>\n",
       "  <tbody>\n",
       "    <tr>\n",
       "      <th>2360</th>\n",
       "      <td>34</td>\n",
       "      <td>70</td>\n",
       "      <td>0</td>\n",
       "      <td>1</td>\n",
       "    </tr>\n",
       "    <tr>\n",
       "      <th>8214</th>\n",
       "      <td>66</td>\n",
       "      <td>10</td>\n",
       "      <td>0</td>\n",
       "      <td>1</td>\n",
       "    </tr>\n",
       "    <tr>\n",
       "      <th>14823</th>\n",
       "      <td>50</td>\n",
       "      <td>40</td>\n",
       "      <td>0</td>\n",
       "      <td>0</td>\n",
       "    </tr>\n",
       "    <tr>\n",
       "      <th>23352</th>\n",
       "      <td>28</td>\n",
       "      <td>48</td>\n",
       "      <td>0</td>\n",
       "      <td>1</td>\n",
       "    </tr>\n",
       "    <tr>\n",
       "      <th>21519</th>\n",
       "      <td>22</td>\n",
       "      <td>40</td>\n",
       "      <td>0</td>\n",
       "      <td>1</td>\n",
       "    </tr>\n",
       "  </tbody>\n",
       "</table>\n",
       "</div>"
      ],
      "text/plain": [
       "       Age  HoursPerWeek  CapitalGain  Sex_code\n",
       "2360    34            70            0         1\n",
       "8214    66            10            0         1\n",
       "14823   50            40            0         0\n",
       "23352   28            48            0         1\n",
       "21519   22            40            0         1"
      ]
     },
     "execution_count": 9,
     "metadata": {},
     "output_type": "execute_result"
    }
   ],
   "source": [
    "data.sample(5)"
   ]
  },
  {
   "cell_type": "code",
   "execution_count": 49,
   "id": "e2f108af-236a-4a73-89ce-b33b56b4e4ad",
   "metadata": {},
   "outputs": [
    {
     "data": {
      "text/plain": [
       "8835    0\n",
       "8616    0\n",
       "9644    0\n",
       "8561    1\n",
       "5238    1\n",
       "Name: label, dtype: int64"
      ]
     },
     "execution_count": 49,
     "metadata": {},
     "output_type": "execute_result"
    }
   ],
   "source": [
    "label.sample(5)"
   ]
  },
  {
   "cell_type": "markdown",
   "id": "fc0dc700-757a-4a52-9e7f-84b8d6b5ddbc",
   "metadata": {},
   "source": [
    "Create a train and test split."
   ]
  },
  {
   "cell_type": "code",
   "execution_count": 11,
   "id": "d82e25b3-15bb-4774-bf6d-e971d59d0127",
   "metadata": {},
   "outputs": [],
   "source": [
    "from sklearn.model_selection import train_test_split\n",
    "\n",
    "d_train, d_test, l_train, l_test = train_test_split(data, label, test_size=0.4, random_state=23)"
   ]
  },
  {
   "cell_type": "markdown",
   "id": "1abba897-e94f-4fd2-bc2a-29e1d084d2d6",
   "metadata": {},
   "source": [
    "Create the decision tree classifier and fit the data."
   ]
  },
  {
   "cell_type": "code",
   "execution_count": 12,
   "id": "043a2b65-20a0-448b-86e6-0ee097bda6ca",
   "metadata": {},
   "outputs": [
    {
     "data": {
      "text/plain": [
       "DecisionTreeClassifier(max_depth=3, random_state=23)"
      ]
     },
     "execution_count": 12,
     "metadata": {},
     "output_type": "execute_result"
    }
   ],
   "source": [
    "from sklearn.tree import DecisionTreeClassifier\n",
    "dtc = DecisionTreeClassifier(max_depth = 3,random_state = 23)\n",
    "dtc.fit(d_train, l_train)"
   ]
  },
  {
   "cell_type": "markdown",
   "id": "7aa31366-673f-461c-9425-a8f6188467eb",
   "metadata": {},
   "source": [
    "Evaluate the performance of the model."
   ]
  },
  {
   "cell_type": "code",
   "execution_count": 13,
   "id": "57c508a0-be3f-4483-a9a2-a56f559a791f",
   "metadata": {},
   "outputs": [
    {
     "name": "stdout",
     "output_type": "stream",
     "text": [
      "Decision Tree Classification [Adult Data] Score = 80.1%\n",
      "\n",
      "Classification Report:\n",
      "              precision    recall  f1-score   support\n",
      "\n",
      "           0       0.79      1.00      0.88      9811\n",
      "           1       0.99      0.20      0.33      3214\n",
      "\n",
      "    accuracy                           0.80     13025\n",
      "   macro avg       0.89      0.60      0.61     13025\n",
      "weighted avg       0.84      0.80      0.75     13025\n",
      "\n",
      "Primitive confusion matrix\n",
      "[[9803    8]\n",
      " [2581  633]]\n"
     ]
    }
   ],
   "source": [
    "from sklearn import metrics\n",
    "\n",
    "# Classify test data and display score and report\n",
    "score = dtc.score(d_test, l_test)\n",
    "print(f'Decision Tree Classification [Adult Data] Score = {score:.1%}\\n')\n",
    "predicted = dtc.predict(d_test)\n",
    "print('Classification Report:')\n",
    "print(metrics.classification_report(l_test, predicted))\n",
    "print(\"Primitive confusion matrix\")\n",
    "print(metrics.confusion_matrix(l_test, predicted))"
   ]
  },
  {
   "cell_type": "markdown",
   "id": "2864ff5d-c86d-40c8-9fe9-8433d7b4008f",
   "metadata": {},
   "source": [
    "The confusion matrix to help evaluate the decision tree."
   ]
  },
  {
   "cell_type": "code",
   "execution_count": 14,
   "id": "3759eb9b-c2a4-4c6f-b53e-ff01585fbad8",
   "metadata": {},
   "outputs": [
    {
     "data": {
      "image/png": "[encoded data removed]",
      "text/plain": [
       "<Figure size 576x396 with 1 Axes>"
      ]
     },
     "metadata": {},
     "output_type": "display_data"
    },
    {
     "data": {
      "text/plain": [
       "<AxesSubplot:title={'center':'DecisionTreeClassifier Confusion Matrix'}, xlabel='Predicted Class', ylabel='True Class'>"
      ]
     },
     "execution_count": 14,
     "metadata": {},
     "output_type": "execute_result"
    }
   ],
   "source": [
    "from yellowbrick.classifier import ConfusionMatrix\n",
    "\n",
    "visualizer = ConfusionMatrix(dtc, label_encoder={0.0 : '> 50K', 1.0 : '<= 50K ' })\n",
    "visualizer.fit(d_train, l_train)\n",
    "visualizer.score(d_test, l_test)\n",
    "visualizer.show()\n"
   ]
  },
  {
   "cell_type": "markdown",
   "id": "685fa319-50bc-4cb6-9c0b-e73492322620",
   "metadata": {},
   "source": [
    "Display the decision tree."
   ]
  },
  {
   "cell_type": "code",
   "execution_count": 19,
   "id": "d5dda50a-8dc8-4d9a-acae-fe376ccf7917",
   "metadata": {},
   "outputs": [
    {
     "data": {
      "image/svg+xml": [
       "<?xml version=\"1.0\" encoding=\"UTF-8\" standalone=\"no\"?>\n",
       "<!DOCTYPE svg PUBLIC \"-//W3C//DTD SVG 1.1//EN\"\n",
       " \"http://www.w3.org/Graphics/SVG/1.1/DTD/svg11.dtd\">\n",
       "<!-- Generated by graphviz version 3.0.0 (20220226.1711)\n",
       " -->\n",
       "<!-- Title: Tree Pages: 1 -->\n",
       "<svg width=\"736pt\" height=\"558pt\"\n",
       " viewBox=\"0.00 0.00 736.00 558.00\" xmlns=\"http://www.w3.org/2000/svg\" xmlns:xlink=\"http://www.w3.org/1999/xlink\">\n",
       "<g id=\"graph0\" class=\"graph\" transform=\"scale(1 1) rotate(0) translate(4 554)\">\n",
       "<title>Tree</title>\n",
       "<polygon fill=\"white\" stroke=\"transparent\" points=\"-4,4 -4,-554 732,-554 732,4 -4,4\"/>\n",
       "<!-- 0 -->\n",
       "<g id=\"node1\" class=\"node\">\n",
       "<title>0</title>\n",
       "<polygon fill=\"#eda876\" stroke=\"black\" points=\"158,-336.5 0,-336.5 0,-268.5 158,-268.5 158,-336.5\"/>\n",
       "<text text-anchor=\"middle\" x=\"79\" y=\"-321.3\" font-family=\"Helvetica,sans-Serif\" font-size=\"14.00\">CapitalGain &lt;= 5095.5</text>\n",
       "<text text-anchor=\"middle\" x=\"79\" y=\"-306.3\" font-family=\"Helvetica,sans-Serif\" font-size=\"14.00\">gini = 0.361</text>\n",
       "<text text-anchor=\"middle\" x=\"79\" y=\"-291.3\" font-family=\"Helvetica,sans-Serif\" font-size=\"14.00\">samples = 19536</text>\n",
       "<text text-anchor=\"middle\" x=\"79\" y=\"-276.3\" font-family=\"Helvetica,sans-Serif\" font-size=\"14.00\">value = [14909, 4627]</text>\n",
       "</g>\n",
       "<!-- 1 -->\n",
       "<g id=\"node2\" class=\"node\">\n",
       "<title>1</title>\n",
       "<polygon fill=\"#eca16b\" stroke=\"black\" points=\"350.5,-372.5 195.5,-372.5 195.5,-304.5 350.5,-304.5 350.5,-372.5\"/>\n",
       "<text text-anchor=\"middle\" x=\"273\" y=\"-357.3\" font-family=\"Helvetica,sans-Serif\" font-size=\"14.00\">Age &lt;= 29.5</text>\n",
       "<text text-anchor=\"middle\" x=\"273\" y=\"-342.3\" font-family=\"Helvetica,sans-Serif\" font-size=\"14.00\">gini = 0.323</text>\n",
       "<text text-anchor=\"middle\" x=\"273\" y=\"-327.3\" font-family=\"Helvetica,sans-Serif\" font-size=\"14.00\">samples = 18630</text>\n",
       "<text text-anchor=\"middle\" x=\"273\" y=\"-312.3\" font-family=\"Helvetica,sans-Serif\" font-size=\"14.00\">value = [14858, 3772]</text>\n",
       "</g>\n",
       "<!-- 0&#45;&gt;1 -->\n",
       "<g id=\"edge1\" class=\"edge\">\n",
       "<title>0&#45;&gt;1</title>\n",
       "<path fill=\"none\" stroke=\"black\" d=\"M158.09,-317.14C166.99,-318.81 176.11,-320.52 185.11,-322.21\"/>\n",
       "<polygon fill=\"black\" stroke=\"black\" points=\"184.75,-325.7 195.22,-324.1 186.04,-318.82 184.75,-325.7\"/>\n",
       "<text text-anchor=\"middle\" x=\"174.59\" y=\"-334.52\" font-family=\"Helvetica,sans-Serif\" font-size=\"14.00\">True</text>\n",
       "</g>\n",
       "<!-- 8 -->\n",
       "<g id=\"node9\" class=\"node\">\n",
       "<title>8</title>\n",
       "<polygon fill=\"#45a3e7\" stroke=\"black\" points=\"352,-245.5 194,-245.5 194,-177.5 352,-177.5 352,-245.5\"/>\n",
       "<text text-anchor=\"middle\" x=\"273\" y=\"-230.3\" font-family=\"Helvetica,sans-Serif\" font-size=\"14.00\">CapitalGain &lt;= 7073.5</text>\n",
       "<text text-anchor=\"middle\" x=\"273\" y=\"-215.3\" font-family=\"Helvetica,sans-Serif\" font-size=\"14.00\">gini = 0.106</text>\n",
       "<text text-anchor=\"middle\" x=\"273\" y=\"-200.3\" font-family=\"Helvetica,sans-Serif\" font-size=\"14.00\">samples = 906</text>\n",
       "<text text-anchor=\"middle\" x=\"273\" y=\"-185.3\" font-family=\"Helvetica,sans-Serif\" font-size=\"14.00\">value = [51, 855]</text>\n",
       "</g>\n",
       "<!-- 0&#45;&gt;8 -->\n",
       "<g id=\"edge8\" class=\"edge\">\n",
       "<title>0&#45;&gt;8</title>\n",
       "<path fill=\"none\" stroke=\"black\" d=\"M151.77,-268.49C164.45,-262.47 177.74,-256.17 190.67,-250.05\"/>\n",
       "<polygon fill=\"black\" stroke=\"black\" points=\"192.46,-253.07 200,-245.62 189.47,-246.74 192.46,-253.07\"/>\n",
       "<text text-anchor=\"middle\" x=\"176.46\" y=\"-233.52\" font-family=\"Helvetica,sans-Serif\" font-size=\"14.00\">False</text>\n",
       "</g>\n",
       "<!-- 2 -->\n",
       "<g id=\"node3\" class=\"node\">\n",
       "<title>2</title>\n",
       "<polygon fill=\"#e68742\" stroke=\"black\" points=\"536,-486.5 398,-486.5 398,-418.5 536,-418.5 536,-486.5\"/>\n",
       "<text text-anchor=\"middle\" x=\"467\" y=\"-471.3\" font-family=\"Helvetica,sans-Serif\" font-size=\"14.00\">Age &lt;= 25.5</text>\n",
       "<text text-anchor=\"middle\" x=\"467\" y=\"-456.3\" font-family=\"Helvetica,sans-Serif\" font-size=\"14.00\">gini = 0.086</text>\n",
       "<text text-anchor=\"middle\" x=\"467\" y=\"-441.3\" font-family=\"Helvetica,sans-Serif\" font-size=\"14.00\">samples = 5841</text>\n",
       "<text text-anchor=\"middle\" x=\"467\" y=\"-426.3\" font-family=\"Helvetica,sans-Serif\" font-size=\"14.00\">value = [5578, 263]</text>\n",
       "</g>\n",
       "<!-- 1&#45;&gt;2 -->\n",
       "<g id=\"edge2\" class=\"edge\">\n",
       "<title>1&#45;&gt;2</title>\n",
       "<path fill=\"none\" stroke=\"black\" d=\"M331.35,-372.55C352.9,-385.35 377.59,-400 399.88,-413.24\"/>\n",
       "<polygon fill=\"black\" stroke=\"black\" points=\"398.23,-416.33 408.62,-418.43 401.81,-410.31 398.23,-416.33\"/>\n",
       "</g>\n",
       "<!-- 5 -->\n",
       "<g id=\"node6\" class=\"node\">\n",
       "<title>5</title>\n",
       "<polygon fill=\"#efb184\" stroke=\"black\" points=\"540,-372.5 394,-372.5 394,-304.5 540,-304.5 540,-372.5\"/>\n",
       "<text text-anchor=\"middle\" x=\"467\" y=\"-357.3\" font-family=\"Helvetica,sans-Serif\" font-size=\"14.00\">Sex_code &lt;= 0.5</text>\n",
       "<text text-anchor=\"middle\" x=\"467\" y=\"-342.3\" font-family=\"Helvetica,sans-Serif\" font-size=\"14.00\">gini = 0.398</text>\n",
       "<text text-anchor=\"middle\" x=\"467\" y=\"-327.3\" font-family=\"Helvetica,sans-Serif\" font-size=\"14.00\">samples = 12789</text>\n",
       "<text text-anchor=\"middle\" x=\"467\" y=\"-312.3\" font-family=\"Helvetica,sans-Serif\" font-size=\"14.00\">value = [9280, 3509]</text>\n",
       "</g>\n",
       "<!-- 1&#45;&gt;5 -->\n",
       "<g id=\"edge5\" class=\"edge\">\n",
       "<title>1&#45;&gt;5</title>\n",
       "<path fill=\"none\" stroke=\"black\" d=\"M350.71,-338.5C361.48,-338.5 372.58,-338.5 383.45,-338.5\"/>\n",
       "<polygon fill=\"black\" stroke=\"black\" points=\"383.78,-342 393.78,-338.5 383.78,-335 383.78,-342\"/>\n",
       "</g>\n",
       "<!-- 3 -->\n",
       "<g id=\"node4\" class=\"node\">\n",
       "<title>3</title>\n",
       "<polygon fill=\"#e5833c\" stroke=\"black\" points=\"720,-550 590,-550 590,-497 720,-497 720,-550\"/>\n",
       "<text text-anchor=\"middle\" x=\"655\" y=\"-534.8\" font-family=\"Helvetica,sans-Serif\" font-size=\"14.00\">gini = 0.026</text>\n",
       "<text text-anchor=\"middle\" x=\"655\" y=\"-519.8\" font-family=\"Helvetica,sans-Serif\" font-size=\"14.00\">samples = 3887</text>\n",
       "<text text-anchor=\"middle\" x=\"655\" y=\"-504.8\" font-family=\"Helvetica,sans-Serif\" font-size=\"14.00\">value = [3836, 51]</text>\n",
       "</g>\n",
       "<!-- 2&#45;&gt;3 -->\n",
       "<g id=\"edge3\" class=\"edge\">\n",
       "<title>2&#45;&gt;3</title>\n",
       "<path fill=\"none\" stroke=\"black\" d=\"M536.2,-478.53C550.58,-484.02 565.8,-489.83 580.37,-495.39\"/>\n",
       "<polygon fill=\"black\" stroke=\"black\" points=\"579.23,-498.71 589.82,-499 581.73,-492.17 579.23,-498.71\"/>\n",
       "</g>\n",
       "<!-- 4 -->\n",
       "<g id=\"node5\" class=\"node\">\n",
       "<title>4</title>\n",
       "<polygon fill=\"#e89051\" stroke=\"black\" points=\"724,-479 586,-479 586,-426 724,-426 724,-479\"/>\n",
       "<text text-anchor=\"middle\" x=\"655\" y=\"-463.8\" font-family=\"Helvetica,sans-Serif\" font-size=\"14.00\">gini = 0.193</text>\n",
       "<text text-anchor=\"middle\" x=\"655\" y=\"-448.8\" font-family=\"Helvetica,sans-Serif\" font-size=\"14.00\">samples = 1954</text>\n",
       "<text text-anchor=\"middle\" x=\"655\" y=\"-433.8\" font-family=\"Helvetica,sans-Serif\" font-size=\"14.00\">value = [1742, 212]</text>\n",
       "</g>\n",
       "<!-- 2&#45;&gt;4 -->\n",
       "<g id=\"edge4\" class=\"edge\">\n",
       "<title>2&#45;&gt;4</title>\n",
       "<path fill=\"none\" stroke=\"black\" d=\"M536.2,-452.5C548.97,-452.5 562.4,-452.5 575.45,-452.5\"/>\n",
       "<polygon fill=\"black\" stroke=\"black\" points=\"575.8,-456 585.8,-452.5 575.8,-449 575.8,-456\"/>\n",
       "</g>\n",
       "<!-- 6 -->\n",
       "<g id=\"node7\" class=\"node\">\n",
       "<title>6</title>\n",
       "<polygon fill=\"#e99356\" stroke=\"black\" points=\"724,-408 586,-408 586,-355 724,-355 724,-408\"/>\n",
       "<text text-anchor=\"middle\" x=\"655\" y=\"-392.8\" font-family=\"Helvetica,sans-Serif\" font-size=\"14.00\">gini = 0.222</text>\n",
       "<text text-anchor=\"middle\" x=\"655\" y=\"-377.8\" font-family=\"Helvetica,sans-Serif\" font-size=\"14.00\">samples = 3917</text>\n",
       "<text text-anchor=\"middle\" x=\"655\" y=\"-362.8\" font-family=\"Helvetica,sans-Serif\" font-size=\"14.00\">value = [3419, 498]</text>\n",
       "</g>\n",
       "<!-- 5&#45;&gt;6 -->\n",
       "<g id=\"edge6\" class=\"edge\">\n",
       "<title>5&#45;&gt;6</title>\n",
       "<path fill=\"none\" stroke=\"black\" d=\"M540.18,-355.19C551.91,-357.9 564.1,-360.72 575.96,-363.46\"/>\n",
       "<polygon fill=\"black\" stroke=\"black\" points=\"575.29,-366.9 585.82,-365.74 576.87,-360.08 575.29,-366.9\"/>\n",
       "</g>\n",
       "<!-- 7 -->\n",
       "<g id=\"node8\" class=\"node\">\n",
       "<title>7</title>\n",
       "<polygon fill=\"#f2c29f\" stroke=\"black\" points=\"728,-337 582,-337 582,-284 728,-284 728,-337\"/>\n",
       "<text text-anchor=\"middle\" x=\"655\" y=\"-321.8\" font-family=\"Helvetica,sans-Serif\" font-size=\"14.00\">gini = 0.448</text>\n",
       "<text text-anchor=\"middle\" x=\"655\" y=\"-306.8\" font-family=\"Helvetica,sans-Serif\" font-size=\"14.00\">samples = 8872</text>\n",
       "<text text-anchor=\"middle\" x=\"655\" y=\"-291.8\" font-family=\"Helvetica,sans-Serif\" font-size=\"14.00\">value = [5861, 3011]</text>\n",
       "</g>\n",
       "<!-- 5&#45;&gt;7 -->\n",
       "<g id=\"edge7\" class=\"edge\">\n",
       "<title>5&#45;&gt;7</title>\n",
       "<path fill=\"none\" stroke=\"black\" d=\"M540.18,-327.63C550.55,-326.07 561.28,-324.46 571.83,-322.87\"/>\n",
       "<polygon fill=\"black\" stroke=\"black\" points=\"572.49,-326.31 581.86,-321.36 571.45,-319.39 572.49,-326.31\"/>\n",
       "</g>\n",
       "<!-- 9 -->\n",
       "<g id=\"node10\" class=\"node\">\n",
       "<title>9</title>\n",
       "<polygon fill=\"#acd6f4\" stroke=\"black\" points=\"546,-245.5 388,-245.5 388,-177.5 546,-177.5 546,-245.5\"/>\n",
       "<text text-anchor=\"middle\" x=\"467\" y=\"-230.3\" font-family=\"Helvetica,sans-Serif\" font-size=\"14.00\">CapitalGain &lt;= 5316.5</text>\n",
       "<text text-anchor=\"middle\" x=\"467\" y=\"-215.3\" font-family=\"Helvetica,sans-Serif\" font-size=\"14.00\">gini = 0.465</text>\n",
       "<text text-anchor=\"middle\" x=\"467\" y=\"-200.3\" font-family=\"Helvetica,sans-Serif\" font-size=\"14.00\">samples = 106</text>\n",
       "<text text-anchor=\"middle\" x=\"467\" y=\"-185.3\" font-family=\"Helvetica,sans-Serif\" font-size=\"14.00\">value = [39, 67]</text>\n",
       "</g>\n",
       "<!-- 8&#45;&gt;9 -->\n",
       "<g id=\"edge9\" class=\"edge\">\n",
       "<title>8&#45;&gt;9</title>\n",
       "<path fill=\"none\" stroke=\"black\" d=\"M352.09,-211.5C360.6,-211.5 369.3,-211.5 377.92,-211.5\"/>\n",
       "<polygon fill=\"black\" stroke=\"black\" points=\"377.98,-215 387.98,-211.5 377.98,-208 377.98,-215\"/>\n",
       "</g>\n",
       "<!-- 12 -->\n",
       "<g id=\"node13\" class=\"node\">\n",
       "<title>12</title>\n",
       "<polygon fill=\"#3c9ee5\" stroke=\"black\" points=\"528,-131.5 406,-131.5 406,-63.5 528,-63.5 528,-131.5\"/>\n",
       "<text text-anchor=\"middle\" x=\"467\" y=\"-116.3\" font-family=\"Helvetica,sans-Serif\" font-size=\"14.00\">Age &lt;= 21.0</text>\n",
       "<text text-anchor=\"middle\" x=\"467\" y=\"-101.3\" font-family=\"Helvetica,sans-Serif\" font-size=\"14.00\">gini = 0.03</text>\n",
       "<text text-anchor=\"middle\" x=\"467\" y=\"-86.3\" font-family=\"Helvetica,sans-Serif\" font-size=\"14.00\">samples = 800</text>\n",
       "<text text-anchor=\"middle\" x=\"467\" y=\"-71.3\" font-family=\"Helvetica,sans-Serif\" font-size=\"14.00\">value = [12, 788]</text>\n",
       "</g>\n",
       "<!-- 8&#45;&gt;12 -->\n",
       "<g id=\"edge12\" class=\"edge\">\n",
       "<title>8&#45;&gt;12</title>\n",
       "<path fill=\"none\" stroke=\"black\" d=\"M331.35,-177.45C352.9,-164.65 377.59,-150 399.88,-136.76\"/>\n",
       "<polygon fill=\"black\" stroke=\"black\" points=\"401.81,-139.69 408.62,-131.57 398.23,-133.67 401.81,-139.69\"/>\n",
       "</g>\n",
       "<!-- 10 -->\n",
       "<g id=\"node11\" class=\"node\">\n",
       "<title>10</title>\n",
       "<polygon fill=\"#399de5\" stroke=\"black\" points=\"707.5,-266 602.5,-266 602.5,-213 707.5,-213 707.5,-266\"/>\n",
       "<text text-anchor=\"middle\" x=\"655\" y=\"-250.8\" font-family=\"Helvetica,sans-Serif\" font-size=\"14.00\">gini = 0.0</text>\n",
       "<text text-anchor=\"middle\" x=\"655\" y=\"-235.8\" font-family=\"Helvetica,sans-Serif\" font-size=\"14.00\">samples = 53</text>\n",
       "<text text-anchor=\"middle\" x=\"655\" y=\"-220.8\" font-family=\"Helvetica,sans-Serif\" font-size=\"14.00\">value = [0, 53]</text>\n",
       "</g>\n",
       "<!-- 9&#45;&gt;10 -->\n",
       "<g id=\"edge10\" class=\"edge\">\n",
       "<title>9&#45;&gt;10</title>\n",
       "<path fill=\"none\" stroke=\"black\" d=\"M546.07,-223.25C561.5,-225.58 577.49,-227.98 592.29,-230.21\"/>\n",
       "<polygon fill=\"black\" stroke=\"black\" points=\"591.91,-233.69 602.32,-231.72 592.95,-226.77 591.91,-233.69\"/>\n",
       "</g>\n",
       "<!-- 11 -->\n",
       "<g id=\"node12\" class=\"node\">\n",
       "<title>11</title>\n",
       "<polygon fill=\"#eeae80\" stroke=\"black\" points=\"711.5,-195 598.5,-195 598.5,-142 711.5,-142 711.5,-195\"/>\n",
       "<text text-anchor=\"middle\" x=\"655\" y=\"-179.8\" font-family=\"Helvetica,sans-Serif\" font-size=\"14.00\">gini = 0.389</text>\n",
       "<text text-anchor=\"middle\" x=\"655\" y=\"-164.8\" font-family=\"Helvetica,sans-Serif\" font-size=\"14.00\">samples = 53</text>\n",
       "<text text-anchor=\"middle\" x=\"655\" y=\"-149.8\" font-family=\"Helvetica,sans-Serif\" font-size=\"14.00\">value = [39, 14]</text>\n",
       "</g>\n",
       "<!-- 9&#45;&gt;11 -->\n",
       "<g id=\"edge11\" class=\"edge\">\n",
       "<title>9&#45;&gt;11</title>\n",
       "<path fill=\"none\" stroke=\"black\" d=\"M546.07,-193.45C560.23,-190.18 574.87,-186.79 588.61,-183.62\"/>\n",
       "<polygon fill=\"black\" stroke=\"black\" points=\"589.49,-187 598.45,-181.34 587.92,-180.18 589.49,-187\"/>\n",
       "</g>\n",
       "<!-- 13 -->\n",
       "<g id=\"node14\" class=\"node\">\n",
       "<title>13</title>\n",
       "<polygon fill=\"#e58139\" stroke=\"black\" points=\"703.5,-124 606.5,-124 606.5,-71 703.5,-71 703.5,-124\"/>\n",
       "<text text-anchor=\"middle\" x=\"655\" y=\"-108.8\" font-family=\"Helvetica,sans-Serif\" font-size=\"14.00\">gini = 0.0</text>\n",
       "<text text-anchor=\"middle\" x=\"655\" y=\"-93.8\" font-family=\"Helvetica,sans-Serif\" font-size=\"14.00\">samples = 4</text>\n",
       "<text text-anchor=\"middle\" x=\"655\" y=\"-78.8\" font-family=\"Helvetica,sans-Serif\" font-size=\"14.00\">value = [4, 0]</text>\n",
       "</g>\n",
       "<!-- 12&#45;&gt;13 -->\n",
       "<g id=\"edge13\" class=\"edge\">\n",
       "<title>12&#45;&gt;13</title>\n",
       "<path fill=\"none\" stroke=\"black\" d=\"M528.13,-97.5C550.03,-97.5 574.72,-97.5 596.39,-97.5\"/>\n",
       "<polygon fill=\"black\" stroke=\"black\" points=\"596.44,-101 606.44,-97.5 596.44,-94 596.44,-101\"/>\n",
       "</g>\n",
       "<!-- 14 -->\n",
       "<g id=\"node15\" class=\"node\">\n",
       "<title>14</title>\n",
       "<polygon fill=\"#3b9ee5\" stroke=\"black\" points=\"711.5,-53 598.5,-53 598.5,0 711.5,0 711.5,-53\"/>\n",
       "<text text-anchor=\"middle\" x=\"655\" y=\"-37.8\" font-family=\"Helvetica,sans-Serif\" font-size=\"14.00\">gini = 0.02</text>\n",
       "<text text-anchor=\"middle\" x=\"655\" y=\"-22.8\" font-family=\"Helvetica,sans-Serif\" font-size=\"14.00\">samples = 796</text>\n",
       "<text text-anchor=\"middle\" x=\"655\" y=\"-7.8\" font-family=\"Helvetica,sans-Serif\" font-size=\"14.00\">value = [8, 788]</text>\n",
       "</g>\n",
       "<!-- 12&#45;&gt;14 -->\n",
       "<g id=\"edge14\" class=\"edge\">\n",
       "<title>12&#45;&gt;14</title>\n",
       "<path fill=\"none\" stroke=\"black\" d=\"M528.13,-74.55C547.56,-67.13 569.18,-58.88 588.95,-51.33\"/>\n",
       "<polygon fill=\"black\" stroke=\"black\" points=\"590.39,-54.53 598.49,-47.69 587.9,-47.99 590.39,-54.53\"/>\n",
       "</g>\n",
       "</g>\n",
       "</svg>\n"
      ],
      "text/plain": [
       "<graphviz.sources.Source at 0x19131d4d280>"
      ]
     },
     "execution_count": 19,
     "metadata": {},
     "output_type": "execute_result"
    }
   ],
   "source": [
    "import graphviz\n",
    "from sklearn.tree import export_graphviz\n",
    "tree_data = export_graphviz(dtc, out_file=None, feature_names=d_train.columns, filled = True, rotate = True) \n",
    "my_tree = graphviz.Source(tree_data) \n",
    "my_tree"
   ]
  },
  {
   "cell_type": "code",
   "execution_count": 21,
   "id": "41953158-85e8-4da5-abd3-024344c0f36f",
   "metadata": {},
   "outputs": [
    {
     "data": {
      "text/plain": [
       "'example.pdf'"
      ]
     },
     "execution_count": 21,
     "metadata": {},
     "output_type": "execute_result"
    }
   ],
   "source": [
    "#my_tree.render(filename = 'example')"
   ]
  },
  {
   "cell_type": "code",
   "execution_count": 47,
   "id": "99926a1a-f173-46e5-aea6-9f9c7c563b1d",
   "metadata": {},
   "outputs": [
    {
     "name": "stdout",
     "output_type": "stream",
     "text": [
      "Label              | Importance\n",
      "------------------------------------\n",
      "Age                  importance = 26.67%\n",
      "CapitalGain          importance = 58.92%\n",
      "HoursPerWeek         importance = 0.00%\n",
      "Sex_code             importance = 14.40%\n"
     ]
    }
   ],
   "source": [
    "dtc.feature_importances_\n",
    "print(f'{\"Label\":18s} | Importance')\n",
    "print(36*'-')\n",
    "for name, val in sorted(zip(d_train.columns, dtc.feature_importances_)):\n",
    "    print(f'{name:<20s} importance = {val:.2%}')"
   ]
  }
 ],
 "metadata": {
  "kernelspec": {
   "display_name": "Python 3 (ipykernel)",
   "language": "python",
   "name": "python3"
  },
  "language_info": {
   "codemirror_mode": {
    "name": "ipython",
    "version": 3
   },
   "file_extension": ".py",
   "mimetype": "text/x-python",
   "name": "python",
   "nbconvert_exporter": "python",
   "pygments_lexer": "ipython3",
   "version": "3.9.7"
  }
 },
 "nbformat": 4,
 "nbformat_minor": 5
}
